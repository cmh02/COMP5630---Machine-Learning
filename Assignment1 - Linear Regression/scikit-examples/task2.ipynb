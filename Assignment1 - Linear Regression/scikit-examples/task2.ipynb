{
 "cells": [
  {
   "cell_type": "markdown",
   "id": "c16520bf",
   "metadata": {},
   "source": [
    "# Assignment 1 - Linear Regression - Task 2 SciKit Implementation\n",
    "\n",
    "Class: COMP 5630 - Machine Learning\n",
    "\n",
    "Author: Chris Hinkson\n",
    "\n",
    "Email: cmh0201@auburn.edu\n",
    "\n",
    "This notebook will provide a quick implementation of scikit-learn's linear regression model on the data provided for task 2 to confirm my model's findings."
   ]
  },
  {
   "cell_type": "code",
   "execution_count": 5,
   "id": "555f5b15",
   "metadata": {},
   "outputs": [],
   "source": [
    "# System\n",
    "import os\n",
    "\n",
    "# Data\n",
    "import numpy as np\n",
    "import pandas as pd\n",
    "import matplotlib.pyplot as plt\n",
    "\n",
    "# Scikit\n",
    "from sklearn.linear_model import LinearRegression\n",
    "from sklearn.metrics import mean_squared_error, mean_absolute_error, r2_score"
   ]
  },
  {
   "cell_type": "markdown",
   "id": "b1a78776",
   "metadata": {},
   "source": [
    "### DataLoader2 Class\n",
    "\n",
    "This code cell will provide a DataLoader(2) class to load the provided xlsx data into a pandas dataframe, seperate features from target, and provide various utilities for getting subsets of data."
   ]
  },
  {
   "cell_type": "code",
   "execution_count": 6,
   "id": "60ab918d",
   "metadata": {},
   "outputs": [
    {
     "name": "stdout",
     "output_type": "stream",
     "text": [
      "Attempting to load training and testing data from directory `../data/`!\n",
      "Successfully loaded data from excel file `../data/Housing_data_regression.xlsx`!\n",
      "-> Train Features Shape: (20, 8)\n",
      "-> Train Target Shape: (20,)\n",
      "-> Test Features Shape: (5, 8)\n",
      "-> Test Target Shape: (5,)\n"
     ]
    }
   ],
   "source": [
    "class DataLoader2:\n",
    "\n",
    "\t# Class Constructor\n",
    "\tdef __init__(self, dataDirectoryPath: str=\"../data/\") -> None:\n",
    "\n",
    "\t\t# Save directory path\n",
    "\t\tself.dataDirectoryPath = dataDirectoryPath\n",
    "\n",
    "\t\t# Announce data load\n",
    "\t\tprint(f\"Attempting to load training and testing data from directory `{self.dataDirectoryPath}`!\")\n",
    "\n",
    "\t\t# Define path for excel file\n",
    "\t\texcelFilePath = os.path.join(self.dataDirectoryPath, \"Housing_data_regression.xlsx\")\n",
    "\n",
    "\t\t# Check if excel file exists\n",
    "\t\tif not os.path.exists(excelFilePath):\n",
    "\t\t\traise FileNotFoundError(f\"Attempted to load excel data but could not find file `{excelFilePath}`!\")\n",
    "\n",
    "\t\t# Load training data from excel sheet\n",
    "\t\tself.trainDf = pd.read_excel(excelFilePath, sheet_name=\"Train\")\n",
    "\t\tself.testDf = pd.read_excel(excelFilePath, sheet_name=\"Test\")\n",
    "\n",
    "\t\t# Split into features and target\n",
    "\t\tself.trainFeatures = self.trainDf.drop(columns=[\"Price\"])\n",
    "\t\tself.trainTarget = self.trainDf[\"Price\"]\n",
    "\t\tself.testFeatures = self.testDf.drop(columns=[\"Local Price\"])\n",
    "\t\tself.testTarget = self.testDf[\"Local Price\"]\n",
    "\n",
    "\t\t# Print data load information\n",
    "\t\tprint(f\"Successfully loaded data from excel file `{excelFilePath}`!\")\n",
    "\t\tprint(f\"-> Train Features Shape: {self.trainFeatures.shape}\")\n",
    "\t\tprint(f\"-> Train Target Shape: {self.trainTarget.shape}\")\n",
    "\t\tprint(f\"-> Test Features Shape: {self.testFeatures.shape}\")\n",
    "\t\tprint(f\"-> Test Target Shape: {self.testTarget.shape}\")\n",
    "\n",
    "# Load data from the data directory\n",
    "Task2DataLoader = DataLoader2(dataDirectoryPath=\"../data/\")"
   ]
  },
  {
   "cell_type": "markdown",
   "id": "b775f36b",
   "metadata": {},
   "source": [
    "### Model Evaluation\n",
    "\n",
    "This code cell will create a linear regression model using scikit-learn and test it using the provided data."
   ]
  },
  {
   "cell_type": "code",
   "execution_count": 7,
   "id": "e28c9030",
   "metadata": {},
   "outputs": [
    {
     "name": "stdout",
     "output_type": "stream",
     "text": [
      "Task 2 SciKit Linear Regression Model Results:\n",
      "-> Mean Squared Error (MSE): 55438202899.023254\n",
      "-> Mean Absolute Error (MAE): 149246.7174611826\n",
      "-> R^2 Score: -0.5148225385301262\n"
     ]
    }
   ],
   "source": [
    "# Create model\n",
    "Task2Model = LinearRegression()\n",
    "\n",
    "# Train model\n",
    "Task2Model.fit(Task2DataLoader.trainFeatures, Task2DataLoader.trainTarget)\n",
    "\n",
    "# Test model\n",
    "Task2Predictions = Task2Model.predict(Task2DataLoader.testFeatures)\n",
    "\n",
    "# Evaluate model\n",
    "Task2MSE = mean_squared_error(Task2DataLoader.testTarget, Task2Predictions)\n",
    "Task2MAE = mean_absolute_error(Task2DataLoader.testTarget, Task2Predictions)\n",
    "Task2R2 = r2_score(Task2DataLoader.testTarget, Task2Predictions)\n",
    "\n",
    "# Print results\n",
    "print(f\"Task 2 SciKit Linear Regression Model Results:\")\n",
    "print(f\"-> Mean Squared Error (MSE): {Task2MSE}\")\n",
    "print(f\"-> Mean Absolute Error (MAE): {Task2MAE}\")\n",
    "print(f\"-> R^2 Score: {Task2R2}\")"
   ]
  }
 ],
 "metadata": {
  "kernelspec": {
   "display_name": ".venv",
   "language": "python",
   "name": "python3"
  },
  "language_info": {
   "codemirror_mode": {
    "name": "ipython",
    "version": 3
   },
   "file_extension": ".py",
   "mimetype": "text/x-python",
   "name": "python",
   "nbconvert_exporter": "python",
   "pygments_lexer": "ipython3",
   "version": "3.13.5"
  }
 },
 "nbformat": 4,
 "nbformat_minor": 5
}
